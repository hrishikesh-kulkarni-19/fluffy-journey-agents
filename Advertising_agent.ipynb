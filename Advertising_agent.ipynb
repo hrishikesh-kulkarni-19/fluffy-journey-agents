{
  "cells": [
    {
      "cell_type": "markdown",
      "metadata": {
        "id": "es_i-SjubzsV"
      },
      "source": [
        "# **Introduction to LangGraph**"
      ]
    },
    {
      "cell_type": "markdown",
      "metadata": {
        "id": "-4cecISYb6mx"
      },
      "source": [
        "\n",
        "\n",
        "Welcome! In this warm-up you’ll the key concepts of **LangGraph**.  \n",
        "\n",
        "By the end you can:\n",
        "\n",
        "| You will be able to… | Why it matters |\n",
        "| --- | --- |\n",
        "| Explain the parts of a `StateGraph` | All LangGraph projects share these building blocks |\n",
        "| Write & connect multiple agents | Real-world apps chain specialised LLM tools |\n",
        "| Inspect state as it flows | Debugging & observability are key |\n",
        "\n",
        "---\n",
        "\n",
        "### 📖 Table of Contents  \n",
        "1. [Install dependencies](#install)  \n",
        "2. [Define shared state](#state)  \n",
        "3. [Create three agents](#agents)  \n",
        "4. [Build the graph](#graph)  \n",
        "5. [Run & inspect](#run)  \n",
        "6. [Next steps](#next)\n"
      ]
    },
    {
      "cell_type": "markdown",
      "metadata": {
        "id": "Y5vCNxFSPv5S"
      },
      "source": [
        "<a id=\"install\"></a>\n",
        "## Step 1  — Install Dependencies\n",
        "\n",
        "We need **LangGraph** for orchestration and **LangChain** for helper classes.  \n",
        "Run the cell below, then **restart the kernel** so the new packages load cleanly.\n"
      ]
    },
    {
      "cell_type": "code",
      "execution_count": null,
      "metadata": {
        "colab": {
          "base_uri": "https://localhost:8080/"
        },
        "id": "G_CuCuuldPSn",
        "outputId": "cabb7a21-e427-4c1c-edad-fefef285b4f7"
      },
      "outputs": [
        {
          "output_type": "stream",
          "name": "stdout",
          "text": [
            "\u001b[2K     \u001b[90m━━━━━━━━━━━━━━━━━━━━━━━━━━━━━━━━━━━━━━━━\u001b[0m \u001b[32m50.1/50.1 kB\u001b[0m \u001b[31m1.5 MB/s\u001b[0m eta \u001b[36m0:00:00\u001b[0m\n",
            "\u001b[2K     \u001b[90m━━━━━━━━━━━━━━━━━━━━━━━━━━━━━━━━━━━━━━━━\u001b[0m \u001b[32m84.9/84.9 kB\u001b[0m \u001b[31m2.4 MB/s\u001b[0m eta \u001b[36m0:00:00\u001b[0m\n",
            "\u001b[?25h  Preparing metadata (setup.py) ... \u001b[?25l\u001b[?25hdone\n",
            "\u001b[2K     \u001b[90m━━━━━━━━━━━━━━━━━━━━━━━━━━━━━━━━━━━━━━━━\u001b[0m \u001b[32m43.7/43.7 kB\u001b[0m \u001b[31m2.2 MB/s\u001b[0m eta \u001b[36m0:00:00\u001b[0m\n",
            "\u001b[2K   \u001b[90m━━━━━━━━━━━━━━━━━━━━━━━━━━━━━━━━━━━━━━━━\u001b[0m \u001b[32m153.3/153.3 kB\u001b[0m \u001b[31m6.7 MB/s\u001b[0m eta \u001b[36m0:00:00\u001b[0m\n",
            "\u001b[2K   \u001b[90m━━━━━━━━━━━━━━━━━━━━━━━━━━━━━━━━━━━━━━━━\u001b[0m \u001b[32m82.9/82.9 kB\u001b[0m \u001b[31m3.6 MB/s\u001b[0m eta \u001b[36m0:00:00\u001b[0m\n",
            "\u001b[2K   \u001b[90m━━━━━━━━━━━━━━━━━━━━━━━━━━━━━━━━━━━━━━━━\u001b[0m \u001b[32m41.8/41.8 kB\u001b[0m \u001b[31m2.3 MB/s\u001b[0m eta \u001b[36m0:00:00\u001b[0m\n",
            "\u001b[2K   \u001b[90m━━━━━━━━━━━━━━━━━━━━━━━━━━━━━━━━━━━━━━━━\u001b[0m \u001b[32m43.9/43.9 kB\u001b[0m \u001b[31m1.7 MB/s\u001b[0m eta \u001b[36m0:00:00\u001b[0m\n",
            "\u001b[2K   \u001b[90m━━━━━━━━━━━━━━━━━━━━━━━━━━━━━━━━━━━━━━━━\u001b[0m \u001b[32m56.8/56.8 kB\u001b[0m \u001b[31m2.4 MB/s\u001b[0m eta \u001b[36m0:00:00\u001b[0m\n",
            "\u001b[2K   \u001b[90m━━━━━━━━━━━━━━━━━━━━━━━━━━━━━━━━━━━━━━━━\u001b[0m \u001b[32m144.2/144.2 kB\u001b[0m \u001b[31m6.8 MB/s\u001b[0m eta \u001b[36m0:00:00\u001b[0m\n",
            "\u001b[2K   \u001b[90m━━━━━━━━━━━━━━━━━━━━━━━━━━━━━━━━━━━━━━━━\u001b[0m \u001b[32m216.7/216.7 kB\u001b[0m \u001b[31m10.6 MB/s\u001b[0m eta \u001b[36m0:00:00\u001b[0m\n",
            "\u001b[?25h  Building wheel for websockets (setup.py) ... \u001b[?25l\u001b[?25hdone\n",
            "\u001b[31mERROR: pip's dependency resolver does not currently take into account all the packages that are installed. This behaviour is the source of the following dependency conflicts.\n",
            "google-adk 1.14.1 requires websockets<16.0.0,>=15.0.1, but you have websockets 10.4 which is incompatible.\n",
            "dataproc-spark-connect 0.8.3 requires websockets>=14.0, but you have websockets 10.4 which is incompatible.\n",
            "yfinance 0.2.66 requires websockets>=13.0, but you have websockets 10.4 which is incompatible.\n",
            "google-genai 1.38.0 requires websockets<15.1.0,>=13.0.0, but you have websockets 10.4 which is incompatible.\u001b[0m\u001b[31m\n",
            "\u001b[0m"
          ]
        }
      ],
      "source": [
        "!pip install -q --upgrade langgraph langchain pyppeteer grandalf  # ! not bare ‘pip’ for Jupyter"
      ]
    },
    {
      "cell_type": "code",
      "source": [
        "from google.colab import userdata\n",
        "GOOGLE_API_KEY = userdata.get('GOOGLE_API_KEY')\n",
        "TAVILY_API_KEY = userdata.get('TAVILY_API_KEY')\n",
        "SERPAPI_KEY = userdata.get('SERPAPI_KEY')\n",
        "print(f\"\"\"\n",
        "GOOGLE_API_KEY = {GOOGLE_API_KEY[:5]} ...\n",
        "TAVILY_API_KEY = {TAVILY_API_KEY[:5]} ...\n",
        "SERPAPI_KEY = {SERPAPI_KEY[:5]} ...\n",
        "\"\"\")"
      ],
      "metadata": {
        "colab": {
          "base_uri": "https://localhost:8080/"
        },
        "id": "AVbdaqo8WOYe",
        "outputId": "3d55174d-8a6b-4e49-e479-b74b1511a8d7"
      },
      "execution_count": null,
      "outputs": [
        {
          "output_type": "stream",
          "name": "stdout",
          "text": [
            "\n",
            "GOOGLE_API_KEY = AIzaS ...\n",
            "TAVILY_API_KEY = tvly- ...\n",
            "SERPAPI_KEY = 63499 ...\n",
            "\n"
          ]
        }
      ]
    },
    {
      "cell_type": "markdown",
      "metadata": {
        "id": "BdV4-3Zxc8By"
      },
      "source": [
        "## Step 2  — Define the Shared State\n",
        "\n",
        "The **state** is a single `TypedDict` that every agent can **read** and **update**  \n",
        "— think of it as a strongly-typed, mutable “whiteboard”."
      ]
    },
    {
      "cell_type": "code",
      "execution_count": null,
      "metadata": {
        "id": "83rVpGWYdTnd"
      },
      "outputs": [],
      "source": [
        "from typing import TypedDict\n",
        "\n",
        "class TravelState(TypedDict, total=False):\n",
        "    user_input: str          # raw question\n",
        "    destination: str         # “Bali”, “Manali”, …\n",
        "    itinerary: str           # multi-day plan\n",
        "    activities: str          # granular activities"
      ]
    },
    {
      "cell_type": "markdown",
      "metadata": {
        "id": "MOv1oHJRdqg5"
      },
      "source": [
        "## Step 3  — Create Three Simple Agents\n",
        "\n",
        "| Agent | Responsibility |\n",
        "| --- | --- |\n",
        "| `destination_agent` | Choose a place that matches the user’s intent |\n",
        "| `itinerary_agent` | Draft a rough, three-day itinerary |\n",
        "| `activity_agent` | Suggest activities fitting that place |\n",
        "\n",
        "Each agent is an ordinary Python function that takes `TravelState` ➜ returns an **updated** `TravelState`.\n"
      ]
    },
    {
      "cell_type": "code",
      "execution_count": null,
      "metadata": {
        "id": "NdccLkcwdw7k"
      },
      "outputs": [],
      "source": [
        "def destination_agent(state: TravelState) -> TravelState:\n",
        "    print(\"🔧 destination_agent running…\")\n",
        "    q = state.get(\"user_input\", \"\").lower()\n",
        "\n",
        "    if \"beach\" in q:\n",
        "        dest = \"Bali\"\n",
        "    elif \"snow\" in q or \"mountain\" in q:\n",
        "        dest = \"Manali\"\n",
        "    else:\n",
        "        dest = \"Kyoto\"  # sensible default\n",
        "\n",
        "    print(f\"🌍 Suggested destination: {dest}\")\n",
        "    return {**state, \"destination\": dest}"
      ]
    },
    {
      "cell_type": "code",
      "execution_count": null,
      "metadata": {
        "id": "_y-hwsvbd5tI"
      },
      "outputs": [],
      "source": [
        "def itinerary_agent(state: TravelState) -> TravelState:\n",
        "    print(\"🔧 itinerary_agent running…\")\n",
        "    dest = state[\"destination\"]\n",
        "    plan = (\n",
        "        f\"Day 1: Arrive in {dest}\\n\"\n",
        "        f\"Day 2: Explore iconic spots in {dest}\\n\"\n",
        "        f\"Day 3: Relax + sample local cuisine\"\n",
        "    )\n",
        "    print(f\"🧳 Draft itinerary:\\n{plan}\")\n",
        "    return {**state, \"itinerary\": plan}"
      ]
    },
    {
      "cell_type": "code",
      "execution_count": null,
      "metadata": {
        "id": "WUvAMWoyd86Z"
      },
      "outputs": [],
      "source": [
        "def activity_agent(state: TravelState) -> TravelState:\n",
        "    print(\"🔧 activity_agent running…\")\n",
        "    dest = state[\"destination\"]\n",
        "    act = (\n",
        "        \"Snorkelling • Beach yoga\"\n",
        "        if dest == \"Bali\"\n",
        "        else \"Skiing • Mountain trek\"\n",
        "    )\n",
        "    print(f\"🎯 Suggested activities: {act}\")\n",
        "    return {**state, \"activities\": act}"
      ]
    },
    {
      "cell_type": "markdown",
      "metadata": {
        "id": "CnGYwjANej8u"
      },
      "source": [
        "## Step 4  — Build the LangGraph Workflow\n",
        "\n",
        "A `StateGraph` wires **nodes** (our agents) with **edges** (execution order).  \n",
        "Below we:\n",
        "\n",
        "1. add each agent as a node  \n",
        "2. set the entry & finish points  \n",
        "3. connect the nodes in series  \n",
        "4. compile to an executable graph\n"
      ]
    },
    {
      "cell_type": "code",
      "execution_count": null,
      "metadata": {
        "colab": {
          "base_uri": "https://localhost:8080/"
        },
        "id": "qJgZ2VCielx2",
        "outputId": "a0f56aac-908a-4213-fd38-0c1a84596f8a"
      },
      "outputs": [
        {
          "output_type": "stream",
          "name": "stdout",
          "text": [
            "✅ Graph compiled.\n"
          ]
        }
      ],
      "source": [
        "from langgraph.graph import StateGraph\n",
        "\n",
        "builder = StateGraph(TravelState)\n",
        "\n",
        "builder.add_node(\"destination_agent\", destination_agent)\n",
        "builder.add_node(\"itinerary_agent\", itinerary_agent)\n",
        "builder.add_node(\"activity_agent\", activity_agent)\n",
        "\n",
        "builder.set_entry_point(\"destination_agent\")\n",
        "builder.add_edge(\"destination_agent\", \"itinerary_agent\")\n",
        "builder.add_edge(\"itinerary_agent\", \"activity_agent\")\n",
        "builder.set_finish_point(\"activity_agent\")\n",
        "\n",
        "travel_graph = builder.compile()\n",
        "print(\"✅ Graph compiled.\")"
      ]
    },
    {
      "cell_type": "code",
      "source": [
        "travel_graph.get_graph().print_ascii()"
      ],
      "metadata": {
        "colab": {
          "base_uri": "https://localhost:8080/"
        },
        "id": "ZgC5-I8KdN8e",
        "outputId": "3f3bf59b-45ed-4e88-d669-a1b16e72647c"
      },
      "execution_count": null,
      "outputs": [
        {
          "output_type": "stream",
          "name": "stdout",
          "text": [
            "    +-----------+      \n",
            "    | __start__ |      \n",
            "    +-----------+      \n",
            "          *            \n",
            "          *            \n",
            "          *            \n",
            "+-------------------+  \n",
            "| destination_agent |  \n",
            "+-------------------+  \n",
            "          *            \n",
            "          *            \n",
            "          *            \n",
            " +-----------------+   \n",
            " | itinerary_agent |   \n",
            " +-----------------+   \n",
            "          *            \n",
            "          *            \n",
            "          *            \n",
            "  +----------------+   \n",
            "  | activity_agent |   \n",
            "  +----------------+   \n",
            "          *            \n",
            "          *            \n",
            "          *            \n",
            "     +---------+       \n",
            "     | __end__ |       \n",
            "     +---------+       \n"
          ]
        }
      ]
    },
    {
      "cell_type": "code",
      "source": [
        "from IPython.display import Image, display\n",
        "\n",
        "display(Image(travel_graph.get_graph().draw_mermaid_png()))"
      ],
      "metadata": {
        "colab": {
          "base_uri": "https://localhost:8080/",
          "height": 449
        },
        "id": "tOdEtmM2Y3kq",
        "outputId": "2039be6b-8bd5-4446-a423-a795d023599a"
      },
      "execution_count": null,
      "outputs": [
        {
          "output_type": "display_data",
          "data": {
            "image/png": "[encoded data removed]",
            "text/plain": [
              "<IPython.core.display.Image object>"
            ]
          },
          "metadata": {}
        }
      ]
    },
    {
      "cell_type": "code",
      "execution_count": null,
      "metadata": {
        "id": "YpSBHM_YfPoL"
      },
      "outputs": [],
      "source": [
        "# import nest_asyncio, asyncio\n",
        "# nest_asyncio.apply()\n",
        "\n",
        "# from langchain_core.runnables.graph import MermaidDrawMethod\n",
        "# from IPython.display import Image, display\n",
        "\n",
        "# display(Image(travel_graph.get_graph().draw_mermaid_png(\n",
        "#     draw_method=MermaidDrawMethod.PYPPETEER,\n",
        "#     max_retries=5,\n",
        "#     retry_delay=2.0\n",
        "#     )\n",
        "# ))"
      ]
    },
    {
      "cell_type": "markdown",
      "metadata": {
        "id": "d5OXniGFfs18"
      },
      "source": [
        "## Step 5  — Run & Inspect\n",
        "\n",
        "Let’s invoke the graph with a sample query and watch the logged output."
      ]
    },
    {
      "cell_type": "code",
      "execution_count": null,
      "metadata": {
        "id": "iEa6Bot3fz52",
        "colab": {
          "base_uri": "https://localhost:8080/"
        },
        "outputId": "6334e6c2-1ece-4419-b627-10ccb1e736be"
      },
      "outputs": [
        {
          "output_type": "stream",
          "name": "stdout",
          "text": [
            "🔧 destination_agent running…\n",
            "🌍 Suggested destination: Bali\n",
            "🔧 itinerary_agent running…\n",
            "🧳 Draft itinerary:\n",
            "Day 1: Arrive in Bali\n",
            "Day 2: Explore iconic spots in Bali\n",
            "Day 3: Relax + sample local cuisine\n",
            "🔧 activity_agent running…\n",
            "🎯 Suggested activities: Snorkelling • Beach yoga\n",
            "\n",
            "🏁 Final state:\n",
            "user_input: I want a relaxing beach vacation\n",
            "destination: Bali\n",
            "itinerary: Day 1: Arrive in Bali\n",
            "Day 2: Explore iconic spots in Bali\n",
            "Day 3: Relax + sample local cuisine\n",
            "activities: Snorkelling • Beach yoga\n"
          ]
        }
      ],
      "source": [
        "initial_state: TravelState = {\n",
        "    \"user_input\": \"I want a relaxing beach vacation\"\n",
        "}\n",
        "\n",
        "final_state = travel_graph.invoke(initial_state)\n",
        "\n",
        "print(\"\\n🏁 Final state:\")\n",
        "for k, v in final_state.items():\n",
        "    print(f\"{k}: {v}\")"
      ]
    },
    {
      "cell_type": "markdown",
      "metadata": {
        "id": "7T3exP6VgGAm"
      },
      "source": [
        "## 🔬 Understanding State Transitions\n",
        "\n",
        "Below is a condensed view of how the state mutated:\n",
        "\n",
        "| After node | `destination` | `itinerary` | `activities` |\n",
        "| --- | --- | --- | --- |\n",
        "| **initial** | — | — | — |\n",
        "| `destination_agent` | ✅ | — | — |\n",
        "| `itinerary_agent` | ✅ | ✅ | — |\n",
        "| `activity_agent` | ✅ | ✅ | ✅ |\n",
        "\n",
        "Each agent **adds** to (or updates) the same `TravelState` object — no hidden globals.\n"
      ]
    },
    {
      "cell_type": "markdown",
      "metadata": {
        "id": "pl2LndBSgPKj"
      },
      "source": [
        "## ✏️ Your Turn  — Get Your Hands Dirty\n",
        "\n",
        "1. **Snow scenario** — Change the input to “I want a snowy mountain retreat” and re-run.  \n",
        "   *What destination, itinerary, and activities do you get?*\n",
        "\n",
        "2. **Branching logic** — Extend `destination_agent` to detect “city break” and route to **Paris**, then tweak `itinerary_agent` accordingly.\n",
        "\n",
        "*(Feel free to add extra cells beneath this one.)*\n"
      ]
    },
    {
      "cell_type": "code",
      "execution_count": null,
      "metadata": {
        "id": "x7a3WxEDg3-b"
      },
      "outputs": [],
      "source": []
    },
    {
      "cell_type": "code",
      "execution_count": null,
      "metadata": {
        "id": "CH-hjEIyg4ch"
      },
      "outputs": [],
      "source": []
    },
    {
      "cell_type": "markdown",
      "metadata": {
        "id": "_tcOs7zmg5JL"
      },
      "source": [
        "# **Build a Multi-Agent System**\n",
        "\n",
        "\n",
        "\n",
        "\n",
        "\n",
        "## Our Learning Path\n",
        "\n",
        "\n",
        "| Step | Focus Area             | Description                                     |\n",
        "|------|------------------------|-------------------------------------------------|\n",
        "| 1️⃣   | Simple Agent           | Start by creating a basic LLM-powered agent     |\n",
        "| 2️⃣   |  Multi-Agent System   |  Combine multiple agents using LangGraph    |\n",
        "| 3️⃣   |  + Short-Term Memory   | Enhance the agent with session-level memory       |\n",
        "\n",
        "\n",
        "\n"
      ]
    },
    {
      "cell_type": "markdown",
      "metadata": {
        "id": "291r_IMkjWw8"
      },
      "source": [
        "## Step 1 — Setup & Imports\n",
        "\n",
        "\n",
        "Before we dive into building agents, let's set up our development environment. We'll be using:\n",
        "\n",
        "- **Google Gemini**: Our powerful LLM for natural language understanding\n",
        "- **LangGraph**: Framework for building stateful, multi-agent workflows\n",
        "- **LangChain**: Tools for LLM application development\n",
        "\n",
        "### Why These Tools?\n",
        "\n",
        "- **Gemini**: Fast, cost-effective, and excellent for conversational AI\n",
        "- **LangGraph**: Perfect for complex workflows with multiple agents\n",
        "- **Environment Variables**: Secure way to handle API keys\n"
      ]
    },
    {
      "cell_type": "code",
      "execution_count": null,
      "metadata": {
        "colab": {
          "base_uri": "https://localhost:8080/"
        },
        "id": "ZPMKQitpjYp-",
        "outputId": "88b30cd0-b7eb-412e-a57d-cd54b20d0f54"
      },
      "outputs": [
        {
          "output_type": "stream",
          "name": "stdout",
          "text": [
            "\u001b[2K   \u001b[90m━━━━━━━━━━━━━━━━━━━━━━━━━━━━━━━━━━━━━━━━\u001b[0m \u001b[32m50.7/50.7 kB\u001b[0m \u001b[31m1.5 MB/s\u001b[0m eta \u001b[36m0:00:00\u001b[0m\n",
            "\u001b[2K   \u001b[90m━━━━━━━━━━━━━━━━━━━━━━━━━━━━━━━━━━━━━━━━\u001b[0m \u001b[32m1.4/1.4 MB\u001b[0m \u001b[31m18.9 MB/s\u001b[0m eta \u001b[36m0:00:00\u001b[0m\n",
            "\u001b[?25h\u001b[31mERROR: pip's dependency resolver does not currently take into account all the packages that are installed. This behaviour is the source of the following dependency conflicts.\n",
            "google-generativeai 0.8.5 requires google-ai-generativelanguage==0.6.15, but you have google-ai-generativelanguage 0.7.0 which is incompatible.\u001b[0m\u001b[31m\n",
            "\u001b[0m"
          ]
        }
      ],
      "source": [
        "# Install packages (run in terminal or uncomment)\n",
        "!pip install -q google-generativeai==0.8.5 google-ai-generativelanguage==0.6.15\n",
        "!pip install -q langchain-google-genai langgraph python-dotenv"
      ]
    },
    {
      "cell_type": "code",
      "execution_count": null,
      "metadata": {
        "id": "uYA1BH64diJN"
      },
      "outputs": [],
      "source": [
        "!pip install -q langchain"
      ]
    },
    {
      "cell_type": "markdown",
      "metadata": {
        "id": "wFLtx89yqtjx"
      },
      "source": [
        "#### **Set Up API Key for Google AI Studio**\n",
        "\n",
        "Follow these steps to create and configure your API key for using Google’s AI services (like Gemini):\n",
        "\n",
        "---\n",
        "\n",
        "##### 1. Visit the API Key Page\n",
        "\n",
        "Open the following link in your browser:\n",
        "\n",
        "👉 [https://aistudio.google.com/apikey](https://aistudio.google.com/apikey)\n",
        "\n",
        "---\n",
        "\n",
        "##### 2. Create an API Key\n",
        "\n",
        "- Sign in with your Google account (if prompted).\n",
        "- Click on **\"Create API Key\"**.\n",
        "- Your API key will be generated — **copy it and keep it secure**.\n",
        "\n",
        "---\n",
        "\n",
        "##### 3. Paste Your API Key in the Cell Below"
      ]
    },
    {
      "cell_type": "code",
      "execution_count": null,
      "metadata": {
        "id": "cIvhAk8u7dQw"
      },
      "outputs": [],
      "source": [
        "from dotenv import load_dotenv\n",
        "import os, getpass\n",
        "\n",
        "# Load API key\n",
        "# load_dotenv()\n",
        "# os.environ[\"GOOGLE_API_KEY\"] = getpass.getpass(\"GOOGLE_API_KEY\")\n",
        "os.environ[\"GOOGLE_API_KEY\"] = GOOGLE_API_KEY"
      ]
    },
    {
      "cell_type": "code",
      "execution_count": null,
      "metadata": {
        "id": "TyEDp44wkoIX"
      },
      "outputs": [],
      "source": [
        "# Import everything we need\n",
        "import google.generativeai as genai\n",
        "from langchain_google_genai import ChatGoogleGenerativeAI\n",
        "from langchain_core.messages import HumanMessage, AIMessage\n",
        "from langchain_core.output_parsers import StrOutputParser\n",
        "from langchain_core.prompts import ChatPromptTemplate, MessagesPlaceholder\n",
        "from langgraph.graph import StateGraph, END"
      ]
    },
    {
      "cell_type": "markdown",
      "metadata": {
        "id": "EtukKZ95kkp-"
      },
      "source": [
        "## Step 2 — Core LLM Chain\n",
        "\n",
        "We’ll now set up the core LLM using the `ChatGoogleGenerativeAI` class from LangChain (or your preferred wrapper). This model will power our generative AI tasks.\n",
        "\n",
        "\n"
      ]
    },
    {
      "cell_type": "code",
      "execution_count": null,
      "metadata": {
        "id": "Rd-hQukMuH8N"
      },
      "outputs": [],
      "source": [
        "llm = ChatGoogleGenerativeAI(\n",
        "    model=\"gemini-2.0-flash\",\n",
        "    temperature=0.2\n",
        ")"
      ]
    },
    {
      "cell_type": "markdown",
      "metadata": {
        "id": "jWCye9JpB70b"
      },
      "source": [
        "## Step 3 - Create Individual Agents"
      ]
    },
    {
      "cell_type": "markdown",
      "metadata": {
        "id": "olBSvdDhrPsd"
      },
      "source": [
        "### Itenary Agent\n",
        "\n",
        "Helps in planning the full travel itinerary and provides travel-related answers"
      ]
    },
    {
      "cell_type": "code",
      "execution_count": null,
      "metadata": {
        "id": "CT_8pVG2jctY",
        "colab": {
          "base_uri": "https://localhost:8080/"
        },
        "outputId": "507c025a-ea3a-4e97-e7b4-30d26bba62cb"
      },
      "outputs": [
        {
          "output_type": "stream",
          "name": "stdout",
          "text": [
            "\u001b[2K   \u001b[90m━━━━━━━━━━━━━━━━━━━━━━━━━━━━━━━━━━━━━━━━\u001b[0m \u001b[32m2.5/2.5 MB\u001b[0m \u001b[31m27.4 MB/s\u001b[0m eta \u001b[36m0:00:00\u001b[0m\n",
            "\u001b[2K   \u001b[90m━━━━━━━━━━━━━━━━━━━━━━━━━━━━━━━━━━━━━━━━\u001b[0m \u001b[32m64.7/64.7 kB\u001b[0m \u001b[31m5.5 MB/s\u001b[0m eta \u001b[36m0:00:00\u001b[0m\n",
            "\u001b[2K   \u001b[90m━━━━━━━━━━━━━━━━━━━━━━━━━━━━━━━━━━━━━━━━\u001b[0m \u001b[32m50.9/50.9 kB\u001b[0m \u001b[31m2.8 MB/s\u001b[0m eta \u001b[36m0:00:00\u001b[0m\n",
            "\u001b[?25h\u001b[31mERROR: pip's dependency resolver does not currently take into account all the packages that are installed. This behaviour is the source of the following dependency conflicts.\n",
            "google-colab 1.0.0 requires requests==2.32.4, but you have requests 2.32.5 which is incompatible.\n",
            "google-generativeai 0.8.5 requires google-ai-generativelanguage==0.6.15, but you have google-ai-generativelanguage 0.7.0 which is incompatible.\n",
            "google-adk 1.14.1 requires websockets<16.0.0,>=15.0.1, but you have websockets 10.4 which is incompatible.\n",
            "dataproc-spark-connect 0.8.3 requires websockets>=14.0, but you have websockets 10.4 which is incompatible.\n",
            "yfinance 0.2.66 requires websockets>=13.0, but you have websockets 10.4 which is incompatible.\n",
            "google-genai 1.38.0 requires websockets<15.1.0,>=13.0.0, but you have websockets 10.4 which is incompatible.\u001b[0m\u001b[31m\n",
            "\u001b[0m"
          ]
        }
      ],
      "source": [
        "# Install required libraries for Tavily\n",
        "!pip install -q tavily-python langchain-community"
      ]
    },
    {
      "cell_type": "code",
      "execution_count": null,
      "metadata": {
        "id": "KexeFybNjep1"
      },
      "outputs": [],
      "source": [
        "# Import necessary modules\n",
        "from langchain_core.tools import tool\n",
        "from langchain_core.messages import ToolMessage\n",
        "from typing import TypedDict, Annotated, List, Union\n",
        "import json"
      ]
    },
    {
      "cell_type": "markdown",
      "metadata": {
        "id": "7O7bKyNerr9E"
      },
      "source": [
        "###### Set Up Tavily API Key\n",
        "\n",
        "Tavily provides real-time web search capabilities for LLMs. To use it, you'll need an API key.\n",
        "\n",
        "---\n",
        "\n",
        "##### Get Your Tavily API Key\n",
        "\n",
        "1. Visit the Tavily dashboard:  \n",
        "   👉 [https://app.tavily.com/home](https://app.tavily.com/home)\n",
        "2. Sign in or create an account.\n",
        "3. Go to the **API Keys** section.\n",
        "4. Copy your API key.\n",
        "\n",
        "---\n",
        "\n",
        "##### Enter Your API Key Securely in Colab"
      ]
    },
    {
      "cell_type": "code",
      "execution_count": null,
      "metadata": {
        "id": "ks-yGiZijhlL"
      },
      "outputs": [],
      "source": [
        "# Step 1: Set up Tavily client and API key\n",
        "# os.environ[\"TAVILY_API_KEY\"] = getpass.getpass(\"TAVILY_API_KEY\")\n",
        "os.environ[\"TAVILY_API_KEY\"] = TAVILY_API_KEY\n",
        "#tavily_client = TavilyClient(api_key=os.environ[\"TAVILY_API_KEY\"])"
      ]
    },
    {
      "cell_type": "code",
      "execution_count": null,
      "metadata": {
        "id": "tuLXizwEm8yt"
      },
      "outputs": [],
      "source": [
        "# Install or upgrade the LangChain-Tavily integration package silently\n",
        "!pip install -q -U langchain-tavily"
      ]
    },
    {
      "cell_type": "markdown",
      "metadata": {
        "id": "v8F_eppDsKEc"
      },
      "source": [
        "###### Use TavilySearch Tool from LangChain\n",
        "\n",
        "Now that we’ve set up the Tavily API key, we can use the `TavilySearch` tool to perform real-time web searches within LangChain."
      ]
    },
    {
      "cell_type": "code",
      "execution_count": null,
      "metadata": {
        "id": "dvfC9KZhm5af"
      },
      "outputs": [],
      "source": [
        "from langchain_tavily import TavilySearch\n",
        "\n",
        "tool = TavilySearch(max_results=2)\n",
        "tools = [tool]"
      ]
    },
    {
      "cell_type": "code",
      "execution_count": null,
      "metadata": {
        "colab": {
          "base_uri": "https://localhost:8080/"
        },
        "id": "eykpyRTHsP7a",
        "outputId": "1c95090f-01f2-48cf-f3e5-c9fc894c8155"
      },
      "outputs": [
        {
          "output_type": "execute_result",
          "data": {
            "text/plain": [
              "{'query': \"What's a 'node' in LangGraph?\",\n",
              " 'follow_up_questions': None,\n",
              " 'answer': None,\n",
              " 'images': [],\n",
              " 'results': [{'url': 'https://www.ibm.com/think/topics/langgraph',\n",
              "   'title': 'What is LangGraph? - IBM',\n",
              "   'content': 'Nodes: In LangGraph, nodes represent individual components or agents within an AI workflow. Nodes can be thought of as “actors” that interact with each other',\n",
              "   'score': 0.9168945,\n",
              "   'raw_content': None},\n",
              "  {'url': 'https://www.ionio.ai/blog/a-comprehensive-guide-about-langgraph-code-included',\n",
              "   'title': 'A Comprehensive Guide About Langgraph: Code Included - Ionio',\n",
              "   'content': 'A node can be any function or tool your agent uses in langgraph and these nodes are connected with other nodes using edges. Every workflow ends with a “END”',\n",
              "   'score': 0.89166987,\n",
              "   'raw_content': None}],\n",
              " 'response_time': 0.89,\n",
              " 'request_id': '221fab04-1b45-4dbd-8943-1aeb54983487'}"
            ]
          },
          "metadata": {},
          "execution_count": 23
        }
      ],
      "source": [
        "# Test TavilySearch\n",
        "tool.invoke(\"What's a 'node' in LangGraph?\")"
      ]
    },
    {
      "cell_type": "code",
      "execution_count": null,
      "metadata": {
        "id": "NVCbsAx-kU9c"
      },
      "outputs": [],
      "source": [
        "# itinerary agent prompt to include ReAct reasoning\n",
        "itenary_prompt = ChatPromptTemplate.from_messages([\n",
        "    (\"system\", \"\"\"You are an expert travel itinerary planner. ONLY respond to travel planning and itinerary-related questions.\n",
        "\n",
        "IMPORTANT RULES:\n",
        "- If asked about non-travel topics (weather, math, general questions), politely decline and redirect to travel planning\n",
        "- Always provide complete, well-formatted itineraries with specific details\n",
        "- Include timing, locations, transportation, and practical tips\n",
        "\n",
        "Use the ReAct approach:\n",
        "1. THOUGHT: Analyze what travel information is needed\n",
        "2. ACTION: Search for current information about destinations, attractions, prices, hours\n",
        "3. OBSERVATION: Process the search results\n",
        "4. Provide a comprehensive, formatted response\n",
        "\n",
        "Available tools:\n",
        "- TavilySearch: Search for current travel information\n",
        "\n",
        "Format your itineraries with:\n",
        "- Clear day-by-day breakdown\n",
        "- Specific times and locations\n",
        "- Transportation between locations\n",
        "- Estimated costs when possible\n",
        "- Practical tips and recommendations\"\"\"),\n",
        "    MessagesPlaceholder(variable_name=\"messages\"),\n",
        "])"
      ]
    },
    {
      "cell_type": "code",
      "execution_count": null,
      "metadata": {
        "id": "clqNBoUTkWcO"
      },
      "outputs": [],
      "source": [
        "# Bind tools to the LLM\n",
        "llm_with_tools = llm.bind_tools(tools)"
      ]
    },
    {
      "cell_type": "code",
      "execution_count": null,
      "metadata": {
        "id": "9Y-xBslIkZOF"
      },
      "outputs": [],
      "source": [
        "# Create itinerary agent\n",
        "itenary_agent = itenary_prompt | llm_with_tools"
      ]
    },
    {
      "cell_type": "markdown",
      "metadata": {
        "id": "R9hNnbarsvRv"
      },
      "source": [
        "### Flight Search Agent\n",
        "\n",
        "Searches for hotels based on user queries (location, date, budget)"
      ]
    },
    {
      "cell_type": "code",
      "execution_count": null,
      "metadata": {
        "id": "EObjSF_rW62o"
      },
      "outputs": [],
      "source": [
        "# Install required packages for flight agent\n",
        "!pip install -q serpapi"
      ]
    },
    {
      "cell_type": "markdown",
      "metadata": {
        "id": "3VPhX0SMs-gW"
      },
      "source": [
        "###### Set Up SERP API Key (Google Search API)\n",
        "\n",
        "SERP API allows you to access Google Search results in real time — useful for web search, SEO tools, and AI assistants.\n",
        "\n",
        "---\n",
        "\n",
        "##### Get Your SERP API Key\n",
        "\n",
        "1. Visit the SERP API dashboard:  \n",
        "   👉 [https://serpapi.com/dashboard](https://serpapi.com/dashboard)\n",
        "2. Sign up or log in.\n",
        "3. Copy your **private API key** from the dashboard.\n",
        "\n",
        "---\n",
        "\n",
        "##### Enter Your API Key Securely in Colab\n",
        "\n"
      ]
    },
    {
      "cell_type": "code",
      "execution_count": null,
      "metadata": {
        "id": "kVL3mmfkW8Gs"
      },
      "outputs": [],
      "source": [
        "import serpapi\n",
        "\n",
        "# Set up SERP API key\n",
        "# os.environ[\"SERPAPI_API_KEY\"] = getpass.getpass(\"SERPAPI_API_KEY\")\n",
        "os.environ[\"SERPAPI_API_KEY\"] = SERPAPI_KEY"
      ]
    },
    {
      "cell_type": "markdown",
      "source": [
        "###### Build Flight Search Tool"
      ],
      "metadata": {
        "id": "-adpHiDd1fYk"
      }
    },
    {
      "cell_type": "code",
      "execution_count": null,
      "metadata": {
        "id": "dOpKe9KdYYBL"
      },
      "outputs": [],
      "source": [
        "from langchain.tools import Tool\n",
        "\n",
        "# Build flight search tool\n",
        "def search_flights(departure_airport: str, arrival_airport: str, outbound_date: str, return_date: str = None, adults: int = 1, children: int = 0) -> str:\n",
        "    \"\"\"\n",
        "    Search for flights using Google Flights engine.\n",
        "\n",
        "    Args:\n",
        "        departure_airport: Departure airport code (e.g., 'NYC', 'LAX')\n",
        "        arrival_airport: Arrival airport code (e.g., 'LON', 'NRT')\n",
        "        outbound_date: Departure date (YYYY-MM-DD format)\n",
        "        return_date: Return date (YYYY-MM-DD format, optional for one-way)\n",
        "        adults: Number of adult passengers (default: 1)\n",
        "        children: Number of child passengers (default: 0)\n",
        "    \"\"\"\n",
        "    params = {\n",
        "        'api_key': os.environ.get('SERPAPI_API_KEY'),\n",
        "        'engine': 'google_flights',\n",
        "        'hl': 'en',\n",
        "        'gl': 'us',\n",
        "        'departure_id': departure_airport,\n",
        "        'arrival_id': arrival_airport,\n",
        "        'outbound_date': outbound_date,\n",
        "        'return_date': return_date,\n",
        "        'currency': 'USD',\n",
        "        'adults': adults,\n",
        "        'children': children,\n",
        "        'stops': '1'\n",
        "    }\n",
        "\n",
        "    try:\n",
        "        search = serpapi.search(params)\n",
        "        results = search.data.get('best_flights', [])\n",
        "        return json.dumps(results, indent=2)\n",
        "    except Exception as e:\n",
        "        return f\"Flight search failed: {str(e)}\""
      ]
    },
    {
      "cell_type": "code",
      "execution_count": null,
      "metadata": {
        "id": "b12OY05vwb_A"
      },
      "outputs": [],
      "source": [
        "# # Define the tool explicitly\n",
        "# search_flights_tool = Tool.from_function(\n",
        "#     func=search_flights,\n",
        "#     name=\"search_flights\",\n",
        "#     description=\"Search for flights using Google Flights engine.\"\n",
        "# )"
      ]
    },
    {
      "cell_type": "markdown",
      "source": [
        "###### Define Flight Agent"
      ],
      "metadata": {
        "id": "iKTv9TeX1tZ0"
      }
    },
    {
      "cell_type": "code",
      "execution_count": null,
      "metadata": {
        "id": "ZiHpfnZZYco6"
      },
      "outputs": [],
      "source": [
        "# flight agent prompt\n",
        "flight_prompt = ChatPromptTemplate.from_messages([\n",
        "    (\"system\", \"\"\"You are a flight booking expert. ONLY respond to flight-related queries.\n",
        "\n",
        "IMPORTANT RULES:\n",
        "- If asked about non-flight topics, politely decline and redirect to flight booking\n",
        "- Always use the search_flights tool to find current flight information\n",
        "- You CAN search for flights and analyze the results for:\n",
        "  * Direct flights vs connecting flights\n",
        "  * Different airlines and flight classes\n",
        "  * Various price ranges and timing options\n",
        "  * Flight duration and layover information\n",
        "- When users ask for specific preferences (direct flights, specific class, etc.), search first then filter/analyze the results\n",
        "- Present results clearly organized by outbound and return flights\n",
        "\n",
        "Available tools:\n",
        "- search_flights: Search for comprehensive flight data that includes all airlines, classes, and connection types\n",
        "\n",
        "Process:\n",
        "1. ALWAYS search for flights first using the tool\n",
        "2. Analyze the results to find flights matching user preferences\n",
        "3. Present organized results with clear recommendations\n",
        "\n",
        "Airport code mapping:\n",
        "- Delhi: DEL\n",
        "- London Heathrow: LHR\n",
        "- New York: JFK/LGA/EWR\n",
        "- etc.\"\"\"),\n",
        "    MessagesPlaceholder(variable_name=\"messages\"),\n",
        "])\n"
      ]
    },
    {
      "cell_type": "code",
      "execution_count": null,
      "metadata": {
        "id": "Y_VkvG5MYekB"
      },
      "outputs": [],
      "source": [
        "# Bind tools and create flight agent\n",
        "llm_with_flight_tools = llm.bind_tools([search_flights])"
      ]
    },
    {
      "cell_type": "code",
      "execution_count": null,
      "metadata": {
        "id": "vpdKGDnctnZT"
      },
      "outputs": [],
      "source": [
        "# flight agent\n",
        "flight_agent = flight_prompt | llm_with_flight_tools"
      ]
    },
    {
      "cell_type": "markdown",
      "metadata": {
        "id": "bp9fTyD5tyLi"
      },
      "source": [
        "### Hotel Agent"
      ]
    },
    {
      "cell_type": "code",
      "execution_count": null,
      "metadata": {
        "id": "ctZtxaFac2Sb"
      },
      "outputs": [],
      "source": [
        "# hotel search tool\n",
        "def search_hotels(location: str, check_in_date: str, check_out_date: str, adults: int = 1, children: int = 0, rooms: int = 1, hotel_class: str = None, sort_by: int = 8) -> str:\n",
        "    \"\"\"\n",
        "    Search for hotels using Google Hotels engine.\n",
        "\n",
        "    Args:\n",
        "        location: Location to search for hotels (e.g., 'New York', 'Paris', 'Tokyo')\n",
        "        check_in_date: Check-in date (YYYY-MM-DD format)\n",
        "        check_out_date: Check-out date (YYYY-MM-DD format)\n",
        "        adults: Number of adults (default: 1)\n",
        "        children: Number of children (default: 0)\n",
        "        rooms: Number of rooms (default: 1)\n",
        "        hotel_class: Hotel class filter (e.g., '2,3,4' for 2-4 star hotels)\n",
        "        sort_by: Sort parameter (default: 8 for highest rating)\n",
        "    \"\"\"\n",
        "\n",
        "    # Ensure proper integer types\n",
        "    adults = int(float(adults)) if adults else 1\n",
        "    children = int(float(children)) if children else 0\n",
        "    rooms = int(float(rooms)) if rooms else 1\n",
        "    sort_by = int(float(sort_by)) if sort_by else 8\n",
        "\n",
        "    params = {\n",
        "        'api_key': os.environ.get('SERPAPI_API_KEY'),\n",
        "        'engine': 'google_hotels',\n",
        "        'hl': 'en',\n",
        "        'gl': 'us',\n",
        "        'q': location,\n",
        "        'check_in_date': check_in_date,\n",
        "        'check_out_date': check_out_date,\n",
        "        'currency': 'USD',\n",
        "        'adults': adults,\n",
        "        'children': children,\n",
        "        'rooms': rooms,\n",
        "        'sort_by': sort_by\n",
        "    }\n",
        "\n",
        "    # Only add hotel_class if provided\n",
        "    if hotel_class:\n",
        "        params['hotel_class'] = hotel_class\n",
        "\n",
        "    try:\n",
        "        search = serpapi.search(params)\n",
        "        properties = search.data.get('properties', [])\n",
        "\n",
        "        if not properties:\n",
        "            return f\"No hotels found. Available data keys: {list(search.data.keys())}\"\n",
        "\n",
        "        # Return top 5 results\n",
        "        return json.dumps(properties[:5], indent=2)\n",
        "\n",
        "    except Exception as e:\n",
        "        return f\"Hotel search failed: {str(e)}\""
      ]
    },
    {
      "cell_type": "code",
      "execution_count": null,
      "metadata": {
        "id": "jiZptHm9c9Wg"
      },
      "outputs": [],
      "source": [
        "# Hotel agent prompt\n",
        "hotel_prompt = ChatPromptTemplate.from_messages([\n",
        "    (\"system\", \"\"\"You are a hotel booking expert. ONLY respond to hotel and accommodation-related queries.\n",
        "\n",
        "IMPORTANT RULES:\n",
        "- If asked about non-hotel topics, politely decline and redirect to hotel booking\n",
        "- Always use the search_hotels tool to find current hotel information\n",
        "- Provide detailed hotel options with prices, ratings, amenities, and location details\n",
        "- Include practical booking advice and tips\n",
        "- You CAN search and analyze results for different criteria like star ratings, price ranges, amenities\n",
        "\n",
        "Available tools:\n",
        "- search_hotels: Search for hotels using Google Hotels engine\n",
        "\n",
        "When searching hotels, extract or ask for:\n",
        "- Location/destination\n",
        "- Check-in and check-out dates (YYYY-MM-DD format)\n",
        "- Number of guests (adults, children)\n",
        "- Number of rooms\n",
        "- Hotel preferences (star rating, amenities, etc.)\n",
        "\n",
        "Present results with:\n",
        "- Hotel name and star rating\n",
        "- Price per night and total cost\n",
        "- Key amenities and features\n",
        "- Location and nearby attractions\n",
        "- Booking recommendations\"\"\"),\n",
        "    MessagesPlaceholder(variable_name=\"messages\"),\n",
        "])"
      ]
    },
    {
      "cell_type": "code",
      "execution_count": null,
      "metadata": {
        "id": "w-V7X50pdRRj"
      },
      "outputs": [],
      "source": [
        "# Bind tools and create hotel agent\n",
        "llm_with_hotel_tools = llm.bind_tools([search_hotels])\n",
        "hotel_agent = hotel_prompt | llm_with_hotel_tools"
      ]
    },
    {
      "cell_type": "markdown",
      "metadata": {
        "id": "QeeL_qshDB1u"
      },
      "source": [
        "## Step 4 - Create Router\n"
      ]
    },
    {
      "cell_type": "code",
      "execution_count": null,
      "metadata": {
        "id": "RlrqVLtlxcTU"
      },
      "outputs": [],
      "source": [
        "from langchain_core.output_parsers import StrOutputParser\n",
        "\n",
        "def create_router():\n",
        "    \"\"\"Creates a router for the three travel agents using LangGraph patterns\"\"\"\n",
        "\n",
        "    router_prompt = ChatPromptTemplate.from_messages([\n",
        "        (\"system\", \"\"\"You are a routing expert for a travel planning system.\n",
        "\n",
        "        Analyze the user's query and decide which specialist agent should handle it:\n",
        "\n",
        "        - FLIGHT: Flight bookings, airlines, air travel, flight search, tickets, airports, departures, arrivals, airline prices\n",
        "        - HOTEL: Hotels, accommodations, stays, rooms, hotel bookings, lodging, resorts, hotel search, hotel prices\n",
        "        - ITINERARY: Travel itineraries, trip planning, destinations, activities, attractions, sightseeing, travel advice, weather, culture, food, general travel questions\n",
        "\n",
        "        Respond with ONLY one word: FLIGHT, HOTEL, or ITINERARY\n",
        "\n",
        "        Examples:\n",
        "        \"Book me a flight to Paris\" → FLIGHT\n",
        "        \"Find hotels in Tokyo\" → HOTEL\n",
        "        \"Plan my 5-day trip to Italy\" → ITINERARY\n",
        "        \"Search flights from NYC to London\" → FLIGHT\n",
        "        \"Where should I stay in Bali?\" → HOTEL\n",
        "        \"What are the best attractions in Rome?\" → ITINERARY\n",
        "        \"I need airline tickets\" → FLIGHT\n",
        "        \"Show me hotel options\" → HOTEL\n",
        "        \"Create an itinerary for Japan\" → ITINERARY\"\"\"),\n",
        "\n",
        "        (\"user\", \"Query: {query}\")\n",
        "    ])\n",
        "\n",
        "    router_chain = router_prompt | llm | StrOutputParser()\n",
        "    def route_query(state):\n",
        "        \"\"\"Router function for LangGraph - decides which agent to call next\"\"\"\n",
        "\n",
        "        # Get the latest user message\n",
        "        user_message = state[\"messages\"][-1].content\n",
        "\n",
        "        print(f\"🧭 Router analyzing: '{user_message[:50]}...'\")\n",
        "\n",
        "        try:\n",
        "            # Get LLM routing decision\n",
        "            decision = router_chain.invoke({\"query\": user_message}).strip().upper()\n",
        "\n",
        "            # Map to our agent node names\n",
        "            agent_mapping = {\n",
        "                \"FLIGHT\": \"flight_agent\",\n",
        "                \"HOTEL\": \"hotel_agent\",\n",
        "                \"ITINERARY\": \"itenary_agent\"\n",
        "            }\n",
        "\n",
        "            next_agent = agent_mapping.get(decision, \"itenary_agent\")\n",
        "            print(f\"🎯 Router decision: {decision} → {next_agent}\")\n",
        "\n",
        "            return next_agent\n",
        "\n",
        "        except Exception as e:\n",
        "            print(f\"⚠️ Router error, defaulting to itenary_agent: {e}\")\n",
        "            return \"itenary_agent\"\n",
        "\n",
        "    return route_query"
      ]
    },
    {
      "cell_type": "code",
      "execution_count": null,
      "metadata": {
        "colab": {
          "base_uri": "https://localhost:8080/"
        },
        "id": "TXe6kmO-xkJP",
        "outputId": "0f249e8e-aca1-4db6-a562-e08bfaaca912"
      },
      "outputs": [
        {
          "output_type": "stream",
          "name": "stdout",
          "text": [
            "✅ Travel Router created for LangGraph!\n"
          ]
        }
      ],
      "source": [
        "# Create the router\n",
        "router = create_router()\n",
        "print(\"✅ Travel Router created for LangGraph!\")"
      ]
    },
    {
      "cell_type": "markdown",
      "metadata": {
        "id": "l5jBLxpBy9OE"
      },
      "source": [
        "## Step 5 - Define the State Schema"
      ]
    },
    {
      "cell_type": "code",
      "execution_count": null,
      "metadata": {
        "id": "SAQPUoxa0QDr"
      },
      "outputs": [],
      "source": [
        "from typing import TypedDict, Annotated, List, Optional\n",
        "import operator\n",
        "from langchain_core.messages import BaseMessage\n",
        "\n",
        "class TravelPlannerState(TypedDict):\n",
        "    \"\"\"Simple state schema for travel multiagent system\"\"\"\n",
        "\n",
        "    # Conversation history - persisted with checkpoint memory\n",
        "    messages: Annotated[List[BaseMessage], operator.add]\n",
        "\n",
        "    # Agent routing\n",
        "    next_agent: Optional[str]\n",
        "\n",
        "    # Current user query\n",
        "    user_query: Optional[str]"
      ]
    },
    {
      "cell_type": "markdown",
      "metadata": {
        "id": "UJZkcWWeDavm"
      },
      "source": [
        "## Step 6 - Create Agent Nodes"
      ]
    },
    {
      "cell_type": "markdown",
      "source": [
        "###### Itenary Agent Node"
      ],
      "metadata": {
        "id": "GwlBIo6D2E7V"
      }
    },
    {
      "cell_type": "code",
      "execution_count": null,
      "metadata": {
        "id": "__yyh1zc0ttN"
      },
      "outputs": [],
      "source": [
        "from langchain_core.messages import ToolMessage\n",
        "\n",
        "# Agent node functions\n",
        "def itinerary_agent_node(state: TravelPlannerState):\n",
        "    \"\"\"Itinerary planning agent node\"\"\"\n",
        "    messages = state[\"messages\"]\n",
        "    response = itenary_agent.invoke({\"messages\": messages})\n",
        "\n",
        "    # Handle tool calls if present\n",
        "    if hasattr(response, 'tool_calls') and response.tool_calls:\n",
        "        tool_messages = []\n",
        "        for tool_call in response.tool_calls:\n",
        "            if tool_call['name'] == 'tavily_search_results_json':\n",
        "                try:\n",
        "                    tool_result = tool.search(query=tool_call['args']['query'], max_results=2)\n",
        "                    tool_result = json.dumps(tool_result, indent=2)\n",
        "                except Exception as e:\n",
        "                    tool_result = f\"Search failed: {str(e)}\"\n",
        "\n",
        "                tool_messages.append(ToolMessage(\n",
        "                    content=tool_result,\n",
        "                    tool_call_id=tool_call['id']\n",
        "                ))\n",
        "\n",
        "        if tool_messages:\n",
        "            all_messages = messages + [response] + tool_messages\n",
        "            final_response = itenary_agent.invoke({\"messages\": all_messages})\n",
        "            return {\"messages\": [response] + tool_messages + [final_response]}\n",
        "\n",
        "    return {\"messages\": [response]}"
      ]
    },
    {
      "cell_type": "markdown",
      "source": [
        "###### Flight Agent Agent Node"
      ],
      "metadata": {
        "id": "Piinmxse2NdX"
      }
    },
    {
      "cell_type": "code",
      "execution_count": null,
      "metadata": {
        "id": "C7HqKXyu02ua"
      },
      "outputs": [],
      "source": [
        "def flight_agent_node(state: TravelPlannerState):\n",
        "    \"\"\"Flight booking agent node\"\"\"\n",
        "    messages = state[\"messages\"]\n",
        "    response = flight_agent.invoke({\"messages\": messages})\n",
        "\n",
        "    if hasattr(response, 'tool_calls') and response.tool_calls:\n",
        "        tool_messages = []\n",
        "        for tool_call in response.tool_calls:\n",
        "            if tool_call['name'] == 'search_flights':\n",
        "                try:\n",
        "                    tool_result = search_flights(**tool_call['args'])\n",
        "                except Exception as e:\n",
        "                    tool_result = f\"Flight search failed: {str(e)}\"\n",
        "\n",
        "                tool_messages.append(ToolMessage(\n",
        "                    content=tool_result,\n",
        "                    tool_call_id=tool_call['id']\n",
        "                ))\n",
        "\n",
        "        if tool_messages:\n",
        "            all_messages = messages + [response] + tool_messages\n",
        "            final_response = flight_agent.invoke({\"messages\": all_messages})\n",
        "            return {\"messages\": [response] + tool_messages + [final_response]}\n",
        "\n",
        "    return {\"messages\": [response]}"
      ]
    },
    {
      "cell_type": "markdown",
      "source": [
        "###### Hotel Agent Node"
      ],
      "metadata": {
        "id": "HmOfwAOM2Ruu"
      }
    },
    {
      "cell_type": "code",
      "execution_count": null,
      "metadata": {
        "id": "R9dXRIwj07KM"
      },
      "outputs": [],
      "source": [
        "def hotel_agent_node(state: TravelPlannerState):\n",
        "    \"\"\"Hotel booking agent node\"\"\"\n",
        "    messages = state[\"messages\"]\n",
        "    response = hotel_agent.invoke({\"messages\": messages})\n",
        "\n",
        "    if hasattr(response, 'tool_calls') and response.tool_calls:\n",
        "        tool_messages = []\n",
        "        for tool_call in response.tool_calls:\n",
        "            if tool_call['name'] == 'search_hotels':\n",
        "                try:\n",
        "                    tool_result = search_hotels(**tool_call['args'])\n",
        "                except Exception as e:\n",
        "                    tool_result = f\"Hotel search failed: {str(e)}\"\n",
        "\n",
        "                tool_messages.append(ToolMessage(\n",
        "                    content=tool_result,\n",
        "                    tool_call_id=tool_call['id']\n",
        "                ))\n",
        "\n",
        "        if tool_messages:\n",
        "            all_messages = messages + [response] + tool_messages\n",
        "            final_response = hotel_agent.invoke({\"messages\": all_messages})\n",
        "            return {\"messages\": [response] + tool_messages + [final_response]}\n",
        "\n",
        "    return {\"messages\": [response]}"
      ]
    },
    {
      "cell_type": "markdown",
      "source": [
        "###### Router Node"
      ],
      "metadata": {
        "id": "IbviDbQS2Vv2"
      }
    },
    {
      "cell_type": "code",
      "execution_count": null,
      "metadata": {
        "id": "i8QAVzMJ045e"
      },
      "outputs": [],
      "source": [
        "def router_node(state: TravelPlannerState):\n",
        "    \"\"\"Router node - determines which agent should handle the query\"\"\"\n",
        "    user_message = state[\"messages\"][-1].content\n",
        "    next_agent = router(state)\n",
        "\n",
        "    return {\n",
        "        \"next_agent\": next_agent,\n",
        "        \"user_query\": user_message\n",
        "    }"
      ]
    },
    {
      "cell_type": "markdown",
      "source": [
        "## Step 7 - Conditonal Function"
      ],
      "metadata": {
        "id": "9ZlpRPiW2hJQ"
      }
    },
    {
      "cell_type": "code",
      "execution_count": null,
      "metadata": {
        "id": "O3kZU0e71Pqk"
      },
      "outputs": [],
      "source": [
        "# Conditional routing function\n",
        "\n",
        "def route_to_agent(state: TravelPlannerState):\n",
        "    \"\"\"Conditional edge function - routes to appropriate agent based on router decision\"\"\"\n",
        "\n",
        "    next_agent = state.get(\"next_agent\")\n",
        "\n",
        "    if next_agent == \"flight_agent\":\n",
        "        return \"flight_agent\"\n",
        "    elif next_agent == \"hotel_agent\":\n",
        "        return \"hotel_agent\"\n",
        "    elif next_agent == \"itenary_agent\":\n",
        "        return \"itenary_agent\"\n",
        "    else:\n",
        "        # Default fallback\n",
        "        return \"itenary_agent\"\n",
        "\n",
        "\n",
        "##### ----> A better approach\n",
        "# def route_to_agent(state: TravelPlannerState) -> Literal[\"flight_agent\", \"hotel_agent\", \"itenary_agent\"]:\n",
        "#     \"\"\"Route to the appropriate agent based on router decision\"\"\"\n",
        "#     return state[\"next_agent\"]"
      ]
    },
    {
      "cell_type": "markdown",
      "source": [
        "## Step 8 - Build Graph & Add Memory"
      ],
      "metadata": {
        "id": "Ja3ij11k2tzh"
      }
    },
    {
      "cell_type": "code",
      "execution_count": null,
      "metadata": {
        "colab": {
          "base_uri": "https://localhost:8080/"
        },
        "id": "Hjlh_rrI2EqH",
        "outputId": "2c164165-8e70-4598-ae74-a5accd8451c0"
      },
      "outputs": [
        {
          "output_type": "execute_result",
          "data": {
            "text/plain": [
              "<langgraph.graph.state.StateGraph at 0x787b661bd760>"
            ]
          },
          "metadata": {},
          "execution_count": 44
        }
      ],
      "source": [
        "from langgraph.graph import StateGraph, END\n",
        "from typing import Literal\n",
        "from langgraph.checkpoint.memory import InMemorySaver\n",
        "\n",
        "# Build the complete travel planning graph\n",
        "workflow = StateGraph(TravelPlannerState)\n",
        "\n",
        "# Add all nodes to the graph\n",
        "workflow.add_node(\"router\", router_node)\n",
        "workflow.add_node(\"flight_agent\", flight_agent_node)\n",
        "workflow.add_node(\"hotel_agent\", hotel_agent_node)\n",
        "workflow.add_node(\"itenary_agent\", itinerary_agent_node)"
      ]
    },
    {
      "cell_type": "code",
      "execution_count": null,
      "metadata": {
        "colab": {
          "base_uri": "https://localhost:8080/"
        },
        "id": "LWr5gUjf2JiW",
        "outputId": "60530f70-d9a0-4f82-9b0e-354cec9099fb"
      },
      "outputs": [
        {
          "output_type": "stream",
          "name": "stdout",
          "text": [
            "✅ Travel Planning Graph built successfully!\n"
          ]
        }
      ],
      "source": [
        "# Set entry point - always start with router\n",
        "workflow.set_entry_point(\"router\")\n",
        "\n",
        "# Add conditional edge from router to appropriate agent\n",
        "workflow.add_conditional_edges(\n",
        "    \"router\",\n",
        "    route_to_agent,\n",
        "    {\n",
        "        \"flight_agent\": \"flight_agent\",\n",
        "        \"hotel_agent\": \"hotel_agent\",\n",
        "        \"itenary_agent\": \"itenary_agent\"\n",
        "    }\n",
        ")\n",
        "\n",
        "# Add edges from each agent back to END\n",
        "workflow.add_edge(\"flight_agent\", END)\n",
        "workflow.add_edge(\"hotel_agent\", END)\n",
        "workflow.add_edge(\"itenary_agent\", END)\n",
        "\n",
        "checkpointer = InMemorySaver()\n",
        "\n",
        "# Compile the graph\n",
        "travel_planner = workflow.compile(checkpointer=checkpointer)\n",
        "\n",
        "print(\"✅ Travel Planning Graph built successfully!\")"
      ]
    },
    {
      "cell_type": "code",
      "source": [
        "travel_planner.get_graph().print_ascii()"
      ],
      "metadata": {
        "colab": {
          "base_uri": "https://localhost:8080/"
        },
        "id": "wcsA3J-vihYA",
        "outputId": "1e0eb1a0-a5dc-4d84-8432-74bbe7fac6c2"
      },
      "execution_count": null,
      "outputs": [
        {
          "output_type": "stream",
          "name": "stdout",
          "text": [
            "                           +-----------+                              \n",
            "                           | __start__ |                              \n",
            "                           +-----------+                              \n",
            "                                  *                                   \n",
            "                                  *                                   \n",
            "                                  *                                   \n",
            "                             +--------+                               \n",
            "                           ..| router |..                             \n",
            "                       ....  +--------+  ....                         \n",
            "                   ....           .          ....                     \n",
            "               ....               .              ....                 \n",
            "            ...                   .                  ...              \n",
            "+--------------+          +-------------+          +---------------+  \n",
            "| flight_agent |          | hotel_agent |          | itenary_agent |  \n",
            "+--------------+***       +-------------+        **+---------------+  \n",
            "                   ****           *          ****                     \n",
            "                       ****       *      ****                         \n",
            "                           ***    *   ***                             \n",
            "                            +---------+                               \n",
            "                            | __end__ |                               \n",
            "                            +---------+                               \n"
          ]
        }
      ]
    },
    {
      "cell_type": "code",
      "execution_count": null,
      "metadata": {
        "colab": {
          "base_uri": "https://localhost:8080/",
          "height": 350
        },
        "id": "p_zMCXkz2gAv",
        "outputId": "4fc90097-3264-4cfe-de2f-6c943039d6a3"
      },
      "outputs": [
        {
          "output_type": "display_data",
          "data": {
            "image/png": "[encoded data removed]",
            "text/plain": [
              "<IPython.core.display.Image object>"
            ]
          },
          "metadata": {}
        }
      ],
      "source": [
        "from IPython.display import Image, display\n",
        "\n",
        "# Generate and display the graph\n",
        "graph_image = travel_planner.get_graph().draw_mermaid_png()\n",
        "display(Image(graph_image))"
      ]
    },
    {
      "cell_type": "markdown",
      "source": [
        "## Step 9 - Test Your Mullti-Agent System"
      ],
      "metadata": {
        "id": "EiE7SWg_3Cx2"
      }
    },
    {
      "cell_type": "code",
      "execution_count": null,
      "metadata": {
        "id": "-w-VVhu23DqS"
      },
      "outputs": [],
      "source": [
        "from langchain_core.messages import HumanMessage\n",
        "\n",
        "def test_system(query):\n",
        "    \"\"\"Test our multi-agent system\"\"\"\n",
        "    print(f\"🧑 User: {query}\")\n",
        "\n",
        "    # Create initial state\n",
        "    initial_state = {\n",
        "        \"messages\": [HumanMessage(content=query)],\n",
        "        \"next_agent\": \"\"\n",
        "    }\n",
        "\n",
        "    # Run the system (use travel_planner instead of app)\n",
        "    result = travel_planner.invoke(initial_state,\n",
        "    config={\"thread_id\": \"test-thread-1\"})\n",
        "\n",
        "    # Get the response\n",
        "    response = result[\"messages\"][-1].content\n",
        "    print(f\"🤖 Assistant: {response}\")\n",
        "    print(\"-\" * 50)"
      ]
    },
    {
      "cell_type": "code",
      "execution_count": null,
      "metadata": {
        "colab": {
          "base_uri": "https://localhost:8080/"
        },
        "id": "cit0hhny3KsT",
        "outputId": "98a1d506-27fe-42bc-f1e8-9780784aee40"
      },
      "outputs": [
        {
          "output_type": "stream",
          "name": "stdout",
          "text": [
            "🧑 User: I need to book a flight to Paris\n",
            "🧭 Router analyzing: 'I need to book a flight to Paris...'\n",
            "🎯 Router decision: FLIGHT → flight_agent\n",
            "🤖 Assistant: Okay, I can help you with that. Where are you flying from and what date would you like to depart?\n",
            "--------------------------------------------------\n",
            "🧑 User: Find me a good hotel in New Delhi on 15 July 2025 for 1 night for 1 adult\n",
            "🧭 Router analyzing: 'Find me a good hotel in New Delhi on 15 July 2025 ...'\n",
            "🎯 Router decision: HOTEL → hotel_agent\n",
            "🤖 Assistant: I am sorry, I was not able to find any hotels in New Delhi for the specified date. Would you like me to search again with different dates or criteria?\n",
            "--------------------------------------------------\n"
          ]
        }
      ],
      "source": [
        "# Test with different queries\n",
        "test_system(\"I need to book a flight to Paris\")\n",
        "test_system(\"Find me a good hotel in New Delhi on 15 July 2025 for 1 night for 1 adult\")\n",
        "#test_system(\"What's the weather like in Paris?\")"
      ]
    },
    {
      "cell_type": "markdown",
      "source": [
        "## Step 10 - Build an Interactive Chatbot"
      ],
      "metadata": {
        "id": "tp-pxt5N3LvL"
      }
    },
    {
      "cell_type": "code",
      "execution_count": null,
      "metadata": {
        "colab": {
          "base_uri": "https://localhost:8080/"
        },
        "id": "5WByi4YWBOj5",
        "outputId": "7a9c2af5-e0f7-47d7-f110-19db0432c794"
      },
      "outputs": [
        {
          "name": "stdout",
          "output_type": "stream",
          "text": [
            "💬 Multi-Agent Travel Assistant (Multi-turn Mode)\n",
            "==================================================\n",
            "\n",
            "🧑 You: Find hotels to to stay in Paris during the vacation in Paris on 1 August - 15 August\n",
            "\n",
            "📊 Processing query...\n",
            "🧭 Router analyzing: 'Find hotels to to stay in Paris during the vacatio...'\n",
            "🎯 Router decision: HOTEL → hotel_agent\n",
            "\n",
            "🤖 Assistant: I can help you with that! First, could you please specify the year you're planning to visit Paris? I need the full date in YYYY-MM-DD format for both check-in and check-out dates. Also, how many adults and children will be staying in the hotel, and how many rooms do you need?\n",
            "--------------------------------------------------\n",
            "\n",
            "🧑 You: assume everything\n",
            "\n",
            "📊 Processing query...\n",
            "🧭 Router analyzing: 'assume everything...'\n",
            "🎯 Router decision: ITINERARY → itenary_agent\n",
            "\n",
            "🤖 Assistant: I am sorry, I cannot make assumptions for your trip. I need specific information about the year, number of adults and children, and number of rooms to find suitable hotels for your vacation in Paris from August 1st to August 15th. Please provide these details so I can assist you effectively.\n",
            "--------------------------------------------------\n",
            "\n",
            "🧑 You: 2026, 2, 2\n",
            "\n",
            "📊 Processing query...\n",
            "🧭 Router analyzing: '2026, 2, 2...'\n",
            "🎯 Router decision: ITINERARY → itenary_agent\n",
            "\n",
            "🤖 Assistant: Okay, I will find hotels for a trip to Paris from August 1, 2026, to August 15, 2026, for 2 adults and 2 children, requiring 2 rooms. To give you the best recommendations, I need a little more information about your preferences:\n",
            "\n",
            "*   **Budget:** What is your approximate budget per night for each room? (e.g., budget, mid-range, luxury)\n",
            "*   **Preferred neighborhood:** Do you have a preferred area in Paris to stay in? (e.g., near the Eiffel Tower, in the Latin Quarter, in Montmartre)\n",
            "*   **Desired amenities:** Are there any specific amenities you'd like the hotel to have? (e.g., family-friendly, swimming pool, free breakfast, air conditioning)\n",
            "\n",
            "Once I have this information, I can search for hotels that meet your needs and provide you with some great options.\n",
            "\n",
            "In the meantime, here are a few popular family-friendly hotels in Paris to give you an idea:\n",
            "\n",
            "*   **Hotel Saint-André des Arts (Latin Quarter):** Known for its central location and family-friendly atmosphere.\n",
            "*   **Hôtel Fabric (Oberkampf):** A stylish hotel with spacious rooms in a trendy neighborhood.\n",
            "*   **Novotel Paris Les Halles (Les Halles):** A modern hotel with family rooms and a convenient location near shops and attractions.\n",
            "\n",
            "I look forward to hearing more about your preferences so I can find the perfect hotels for your family trip!\n",
            "--------------------------------------------------\n",
            "\n",
            "🧑 You: quit\n"
          ]
        }
      ],
      "source": [
        "from langchain_core.messages import HumanMessage\n",
        "\n",
        "def multi_turn_chat():\n",
        "    \"\"\"Multi-turn conversation with checkpoint memory\"\"\"\n",
        "    print(\"💬 Multi-Agent Travel Assistant (Multi-turn Mode)\")\n",
        "    print(\"=\" * 50)\n",
        "\n",
        "    # For multi-turn, you need a consistent thread/session ID\n",
        "    config = {\"configurable\": {\"thread_id\": \"1\"}}\n",
        "\n",
        "    while True:\n",
        "        user_input = input(\"\\n🧑 You: \")\n",
        "\n",
        "        if user_input.lower() == 'quit':\n",
        "            break\n",
        "\n",
        "        print(f\"\\n📊 Processing query...\")\n",
        "\n",
        "        # For multi-turn, just add the new message\n",
        "        # The graph will maintain conversation history automatically\n",
        "        result = travel_planner.invoke(\n",
        "            {\"messages\": [HumanMessage(content=user_input)]},\n",
        "            config\n",
        "        )\n",
        "\n",
        "        response = result[\"messages\"][-1].content\n",
        "        print(f\"\\n🤖 Assistant: {response}\")\n",
        "        print(\"-\" * 50)\n",
        "\n",
        "# Test multi-turn conversation\n",
        "multi_turn_chat()"
      ]
    },
    {
      "cell_type": "code",
      "source": [],
      "metadata": {
        "id": "v237SqTshssW"
      },
      "execution_count": null,
      "outputs": []
    }
  ],
  "metadata": {
    "colab": {
      "provenance": []
    },
    "kernelspec": {
      "display_name": "Python 3",
      "name": "python3"
    },
    "language_info": {
      "name": "python"
    }
  },
  "nbformat": 4,
  "nbformat_minor": 0
}